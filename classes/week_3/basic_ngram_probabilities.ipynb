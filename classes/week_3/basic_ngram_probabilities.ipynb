{
 "cells": [
  {
   "cell_type": "markdown",
   "metadata": {},
   "source": [
    "N-Gram Models and their probabilities"
   ]
  },
  {
   "cell_type": "markdown",
   "metadata": {},
   "source": [
    "A first step in making use of n-gram models is using them to estimate the probabilities of certain events.\n",
    "\n",
    "In order to make use of these models we will first want to count the words in a document."
   ]
  },
  {
   "cell_type": "code",
   "execution_count": 1,
   "metadata": {},
   "outputs": [
    {
     "name": "stdout",
     "output_type": "stream",
     "text": [
      "\n",
      "\n",
      "\n",
      "June 5, 2018  —\n",
      "\n",
      "\n",
      "\n",
      "Objective:\n",
      "We determined whether U.S. Pacific Command (USPACOM) and subordinate commands developed, reviewed, and validated requirements for the Philippines Operations Support Contract (POSC) III to ensure the adequate provision of services.\n",
      "Background:\n",
      "On February 23, 2017, Naval Facilities Engineering Command Pacific awarded the POSC III. This contract is a cost-plus-incentive-fee contract with a maximum dollar value of $58 million, including the base year and four option periods with a 6‑month extension, to provide base operating support services. \n",
      "In September 2017, the Secretary of Defense designated Operation Pacific Eagle‑Philippines as a contingency operation. USPACOM, in coordination with other DoD elements, government agencies, and partner nations, executes this contingency operation as a counterterrorism campaign supporting the Republic of the Philippines. \n",
      "In order to execute the POSC III, constant communication and collaboration are required among Naval Facilities Engineering Command Pacific and USPACOM and its subordinate commands, U.S. Marine Corps Forces Pacific and U.S. Special Operations Command Pacific (SOCPAC). \n",
      "To validate contract requirements, the POSC III and other service contracts are subject to a Services Requirements Review Board (SRRB). An SRRB is a formal process to identify, plan, prioritize, and validate contract service requirements before issuing funding documents. The SRRB increases stakeholder awareness of service requirements, provides for the prioritization of requirements to support funding decisions, and increases collaboration on key strategy decisions to optimize services acquisitions and enable efficiencies.\n",
      "Finding:\n",
      "USPACOM, U.S. Marine Corps Forces Pacific, and SOCPAC developed, reviewed, and validated requirements without an SRRB because at the time the POSC III contract was awarded, guidance did not require an SRRB for base operating support contracts to ensure the adequate provision of services. After contract award, Navy guidance for conducting SRRBs changed, and base operating support contracts were no longer exempt from going through an SRRB to validate contract requirements for both original contracts and each option period exercised. However, USPACOM and SOCPAC did not formally re-validate the POSC III requirements through an SRRB before authorizing about $8.2 million in March 2018 to exercise the first option period starting on April 1, 2018, in accordance with Navy, USPACOM, and SOCPAC SRRB guidance. \n",
      "This occurred because USPACOM and SOCPAC officials were unaware of the March 1, 2018, deadline agreed upon between the Project Manager and Naval Facilities Engineering Command Pacific to authorize funding to execute the option period to avoid any lapse in service and did not plan to hold an SRRB in time. Due to the uncertain nature of contingency operations and members of the Special Operations Task Force in the Philippines rotating every 6 months, there is an increased risk that the contract requirements may not meet mission needs. Because USPACOM and SOCPAC did not re‑validate the POSC III requirements through an SRRB before exercising the first option period, USPACOM and SOCPAC cannot ensure efficient use of command resources and compliance with applicable regulations, policy, and guidance. The POSC III has three additional option periods, with a total value of about $49 million. Therefore, validating contract requirements through an SRRB process is necessary to ensure USPACOM and SOCPAC do not duplicate requirements or pay for unneeded services in the future.\n",
      "Recommendations:\n",
      "We recommend that the USPACOM Commander direct all subordinate commands to ensure SRRB processes are consistent and compliant with higher-level directives. In addition, in instances where USPACOM delegates SRRB responsibility to subordinate commands, it should require supporting documentation from the commands verifying compliance with SRRB guidance. \n",
      "Additionally, we recommend that the USPACOM Commander, in coordination with the SOCPAC Commander, hold an SRRB before authorizing additional funding for the remainder of the POSC III first option period and provide training on command SRRB guidance to all current and future personnel working on services contracts.\n",
      "Management Actions Taken:\n",
      "During the audit, we notified officials from USPACOM and SOCPAC of our concerns of not re-validating the POSC III requirements through an SRRB before authorizing funding in March 2018 to exercise the first option period. USPACOM and SOCPAC officials agreed with our recommendations and immediately initiated corrective actions. Specifically, the USPACOM J8 Comptroller Office sent an e-mail directing all subordinate Comptrollers to submit evidence that their organization has an SRRB policy in effect and an SRRB was conducted before USPACOM will release funding for any contracted services over $150,000. The USPACOM J8 Comptroller Office also distributed the USPACOM SRRB guidance for reference. In addition, SOCPAC held an SRRB on April 10, 2018, to re-validate the POSC III contract requirements for the remainder of the first option period. \n",
      "Furthermore, the USPACOM J8 Comptroller stated that USPACOM will develop and conduct training for its SRRB process to ensure all personnel are aware of current and updated SRRB guidance. The training will be conducted at USPACOM’s May 2018 SRRB. In addition, SOCPAC officials will conduct the training at a town hall in June 2018. \n",
      "The management actions taken by USPACOM and SOCPAC addressed the concerns we identified; therefore, we consider the recommendations related to issuing guidance and performing an SRRB closed and the recommendation related to training resolved pending receipt of additional documentation showing that the SRRB training was conducted.\n",
      "\n",
      "\n",
      "\n",
      "March 21, 2018  —\n",
      "\n",
      "\n",
      "\n",
      "\n",
      "\n",
      "\n",
      "\n",
      "\n",
      "\n",
      "\n",
      "\n",
      "\n",
      "\n",
      "\n",
      "\n",
      "\n",
      "\n",
      "\n",
      "\n",
      "\n",
      "\n",
      "\n",
      "\n",
      "\n",
      "\n",
      "\n",
      "\n",
      "\n",
      "\n",
      "\n",
      "\n",
      "\n",
      "\n",
      "\n",
      "\n",
      "\n",
      " \n",
      "\n",
      "Objective:\n",
      "We determined whether the U.S. Air Force effectively managed the modernization of the F-22 Raptor (F-22) fleet. Specifically, we reviewed the F-22 Program Office’s implementation of Scaled Agile Framework (SAFe). SAFe is a software development method that uses short time periods to develop smaller portions of software that contribute to the final product.\n",
      "Background:\n",
      "The Air Force F-22 is a fighter aircraft that incorporates stealth capability in the performance of air-to-air and air-to-ground missions. In 2003, the Air Force established a modernization program to add enhanced capabilities. The Air Force divided the F-22 modernization program into 10 separate programs, with each providing multiple capabilities that included both hardware and software development. The Program Office used several software development methods for F-22 modernization. These methods resulted in the identification of numerous deficiencies late in development and correction of the deficiencies required additional software updates. This also led to F-22 modernization schedule delays to allow time to complete the testing on the additional updates. To identify deficiencies quicker and deliver capabilities faster, the Program Office implemented agile software development methods on future F-22 modernization. Agile Software development methods use close collaboration, and frequent delivery of software updates. The Program Office specifically chose to use an agile software development method known as SAFe.\n",
      "Findings:\n",
      "The U.S. Air Force did not effectively manage the modernization of the F-22 Raptor fleet. Specifically, the Program Office did not update its contracting strategy for SAFe implementation on F-22 modernization programs. This occurred because Program Office officials have not identified the appropriate contracting strategy to best incentivize the contractor when using SAFe. In addition, the Office of the Under Secretary of Defense for Acquisition, Technology, and Logistics, and the Assistant Secretary of the Air Force, Acquisition have not issued policy for implementing agile software development methods on weapon system acquisitions. As a result, without an appropriate contracting strategy, the Program Office may not deliver F-22 modernized capabilities necessary to sustain air superiority against rapidly evolving U.S. adversaries.\n",
      "Recommendations:\n",
      "We recommend that the Office of the Under Secretary of Defense for Acquisition, Technology, and Logistics:\n",
      "• Review and revise acquisition guidance to allow for the implementation of agile software development methods on programs that include both hardware and software development.\n",
      "• Compile lessons learned from DoD programs implementing agile software development methods to share with other DoD programs.\n",
      "We recommend that the F-22 Program Office:\n",
      "• Determine the contracting strategy to best incentivize the contractor prior to awarding the order for the next modernization program.\n",
      "• Document the lessons learned when developing the contracting strategy for use by other programs.\n",
      "\n",
      "Management Comments and Our Response:\n",
      "\n",
      "The Official Performing the Duties of the Assistant Secretary of Defense for Acquisition, responding for the Office of the Under Secretary of Defense for Acquisition, Technology, and Logistics; and the Director, Global Powers Program, Office of the Assistant Secretary of the Air Force for Acquisition, responding for the F-22 Program Office, provided comments in response to a draft of this report. The Official Performing the Duties of the Assistant Secretary of Defense for Acquisition, partially agreed with our recommendation to review and revise acquisition guidance and agreed with our recommendation to compile lessons learned from DoD programs implementing agile software development methods and share with other DoD programs. Therefore, the recommendations are resolved but remain open. We will close the recommendations once we verify that the Office of the Under Secretary of Defense for Acquisition, Technology, and Logistics has:\n",
      "• reviewed and revised DoD guidance based on lessons learned and best practices to allow for the implementation of agile development methods on programs that include both hardware and software; and\n",
      "• compiled lessons learned from acquisition programs implementing agile and has shared this information with other DoD programs.\n",
      " \n",
      "The Director, Global Powers Program, Office of the Assistant Secretary of the Air Force for Acquisition, agreed with our recommendations to determine the contracting strategy that best incentivizes the contractor and to document the lessons learned when developing the contracting strategy. Therefore, the recommendations are resolved but remain open. We will close the recommendations once we verify that the F-22 Program Office has:\n",
      "• implemented the new contracting strategy; and\n",
      "• documented lessons learned when developing the contracting strategy for agile implementation.\n",
      "\n",
      "\n",
      "\n",
      "May 21, 2018  —\n",
      "\n",
      "\n",
      "\n",
      "Objective:\n",
      "We determined whether Air Force officials updated the Eagle Passive/Active Warning and Survivability System (EPAWSS) test and evaluation master plan to respond to concerns raised by Air Force and DoD test officials, developed an EPAWSS design that can meet capability requirements, and evaluated the F-15C EPAWSS production plan during the engineering and manufacturing development phase.\n",
      "Background:\n",
      "The Air Force’s EPAWSS program is an acquisition category IC major defense program with estimated program costs of $876 million in research, development, test, and evaluation, and $3.4 billion in procurement.1 EPAWSS upgrades F-15C and F-15E aircraft electronic warfare capabilities to detect and identify air and ground threats, employ counter-measures, and jam enemy radar signals. The F-15 is an all-weather, day and night, tactical fighter aircraft designed to gain and maintain control over the battlefield.\n",
      "In November 2016, EPAWSS program officials started the engineering and manufacturing development phase of the acquisition cycle and began to develop, build, and test EPAWSS prototypes to verify that capability requirements have been met and to support production decisions. In August 2019, EPAWSS program officials plan to begin production and installation of EPAWSS on F-15 aircraft. The Air Force planned to upgrade 196 F-15C and 217 F-15E aircraft with EPAWSS during the production phase.\n",
      "Finding:\n",
      "EPAWSS program officials updated the test and evaluation master plan to respond to concerns raised by Air Force and DoD test officials. Additionally, EPAWSS program officials developed an EPAWSS design that can meet capability requirements.\n",
      "Furthermore, in September 2016, the Air Force fully funded the EPAWSS program through production to satisfy an urgent need for modernized F-15 electronic warfare capabilities. However, in February 2017, the Deputy Chief of Staff of the Air Force, Strategic Plans and Requirements (DCS AF/A5/8) cancelled the upgrade of 196 F-15C aircraft with EPAWSS and removed procurement funds, which resulted in a 47 percent decrease of the total program production quantity.\n",
      "The quantity decrease of the F-15C EPAWSS production units and the removal of funds occurred because the DCS AF/A5/8 decided to use F-15C EPAWSS procurement funds to develop a higher priority air superiority program. However, DCS AF/A5/8 officials did not request Joint Requirements Oversight Council revalidation to verify whether the quantity decrease that was over 10 percent would adversely impact the warfighter’s capability.\n",
      "As a result, Air Force officials do not know the full impact to other aircraft missions within and across the portfolios and Services without Joint Requirements Oversight Council revalidation of the decrease of F-15C EPAWSS production quantities. Using the F-15C aircraft without EPAWSS will limit the warfighter’s ability to detect and identify air and ground threats, employ counter-measures, and jam enemy radar signals.\n",
      "Recommendations:\n",
      "We recommend the DCS AF/A5/8 request that the Joint Requirements Oversight Council revalidate the F-15C EPAWSS quantity to ensure that air superiority missions can still be met without the F-15C EPAWSS. Additionally, we recommend the DCS AF/A5/8 issue a revision that includes F-15C EPAWSS procurement funds if Congress does not approve the F-15C aircraft retirement.\n",
      "Management Comments and Our Response:\n",
      "The Director of Staff for DCS, Strategic Plans, Programs, and Requirements, responding for the DCS AF/A5/8, agreed with and addressed all specifics of the recommendations. The Director of Staff stated that Air Force officials would submit the updated EPAWSS production quantity to the Joint Requirements Oversight Council for review and revalidation by first quarter 2019.\n",
      "In addition, the Director of Staff stated that Air Force officials would provide Congress with specific plans and justifications for retiring the F-15C aircraft. If Congress does not approve the F-15C aircraft retirement, the Director of Staff stated that Air Force officials would review the requirement and restore procurement funding for sufficient EPAWSS quantities to provide increased F-15C electronic warfare capabilities, as the mission requires. Therefore, these recommendations are resolved but will remain open. We will close these recommendations once we verify that the Joint Requirements Oversight Council has revalidated the decrease of F-15C EPAWSS production quantities or Air Force officials restore procurement funds if Congress does not approve the F-15C aircraft retirement.\n",
      "\n",
      "\n",
      "\n",
      "April 7, 2017  —\n",
      "\n",
      "Objective\n",
      "We determined whether the Defense Information Systems Agency (DISA) complied with Federal and DoD mandatory processes for software life cycle management of the Defense Collaboration Services (DCS).1 Specifically, we addressed Defense Hotline allegations by determining whether DISA was effectively following Federal and DoD policies and procedures for defining software development requirements, using open source software, performing software testing, and ensuring software security.\n",
      "Background\n",
      "The Defense Hotline received allegations stating that DISA failed to comply with Federal and DoD processes for software management. The allegations focused on the DCS and outlined concerns of potential software security vulnerabilities. The allegations included concerns that DISA officials were not following Federal and DoD policy for defining software development requirements, using open source software, performing software testing, and ensuring software security.\n",
      "Finding\n",
      "We did not substantiate the Defense Hotline allegations related to inadequate software development requirements, lack of adherence to DoD Chief Information Officer direction for open source software use, and inadequate software testing and security. DISA officials complied with Federal and DoD guidance for management of the DCS. Specifically, DISA officials:\n",
      "\n",
      "defined software development requirements based on technical needs;\n",
      "\n",
      "\n",
      "performed code reviews for open source software and completed other actions in accordance with DoD Chief Information Officer best practices; and\n",
      "\n",
      "\n",
      "established software management processes, performed operational software testing, and ensured software security.\n",
      "\n",
      "Although we did not substantiate the Defense Hotline allegations, we determined that the authorizing official granted DISA a 1-year authorization to operate (ATO) instead of a full 3-year ATO in May 2016.2 The authorizing official grants the ATO based on the level of risk to organizational operations. If overall risk is determined to be acceptable, and there are no noncompliant controls with a high or very high level of risk,3 a 3 -year ATO can be granted. If overall risk is determined to be acceptable due to mission criticality, but there are noncompliant controls with a high or very high level of risk, a 1-year ATO with conditions can be granted by the authorizing official with permission of the responsible Component Chief Information Officer. After the 1-year period, if noncompliant controls with a high or very high level of risk still exist, the authorizing official may again grant a 1-year ATO with conditions only if the Component Chief Information Officer grants permission. If the risk for the high or very high noncompliant controls is mitigated to an acceptable risk level, a full 3-year ATO can be granted.\n",
      "DISA needs to mitigate the level of risk for high and very high noncompliant controls and obtain a 3-year ATO for the DCS. Mitigating the level of risk for these noncompliant controls will improve security of the DCS and further decrease the risk of unauthorized access.\n",
      "Recommendation\n",
      "We recommend that the Chief Information Officer, DISA, mitigate the level of risk for high and very high noncompliant controls identified in the May 2016 ATO to be granted a 3-year ATO for the DCS.\n",
      "Management Actions Taken\n",
      "We provided a discussion draft with the finding and recommendation of this report to DISA on February 27, 2017. DISA agreed and had no substantive comments on the discussion draft. Therefore, we did not require a written response, and are publishing this report in final form.\n",
      "During the audit, we discussed the recommendation with the DCS program manager. The DCS program manager provided a status of actions taken to mitigate the level of risk for noncompliant controls identified in the May 2016 ATO. The DCS program manager stated that the DCS program management office information assurance team and the information systems security officer mitigated the level of risk for noncompliant controls and submitted supporting documentation to the DISA Certification and Assessments Division to support the granting of a 3-year ATO by May 8, 2017.\n",
      "We consider the DCS program manager’s response to have addressed all specifics of the recommendation; therefore, the recommendation is resolved but remains open. We will close the recommendation once DISA provides us with a copy of the 2017 ATO for the DCS indicating that the level of risk for high and very high noncompliant controls were mitigated and the authorizing official granted a 3-year ATO.\n",
      "\n",
      "1 The DCS is a communication platform for the armed services which allows for worldwide collaboration on the DoD’s nonclassified and secret networks by offering web conference and chat capabilities.\n",
      "2 The authorizing official is responsible for authorizing the system’s operation based on achieving and maintaining an acceptable risk posture. The authorizing official for the DCS is the DISA Chief of Cybersecurity.\n",
      "3 During the ATO process, the DISA Certification and Assessments Division reviews the system’s assurance controls to determine whether the controls are compliant with the risk management framework, which is DoD’s integrated enterprise-wide structure for cybersecurity risk management.\n",
      "\n",
      "\n",
      "\n",
      "March 14, 2017  —\n",
      "\n",
      "Objective\n",
      "We determined whether the Army supported its decision to transition Human Immunodeficiency Virus (HIV) testing from a contracted service to an in-house capability.1 In addition, we reviewed the Navy’s testing plans.\n",
      "The House Committee on Appropriations requested that we review the Army’s business case analysis to transition HIV testing from a contracted service to an in-house capability.  In addition, House Report 114-577, to accompany the House Report 5293, “Department of Defense Appropriations Act, 2017,” expressed concern with the decisions by the Army and Navy to transition HIV testing from a contracted service to an in-house capability.  The report directed the DoD Office of Inspector General to examine the business case analyses and provide a report on its findings to the congressional defense committees.\n",
      "Finding\n",
      "We determined that Walter Reed Army Institute of Research personnel did not adequately support or document their business case analysis for bringing HIV testing in-house.  This occurred because Walter Reed Army Institute of Research personnel did not follow DoD and Service guidance for preparing a business case analysis.  Specifically they:\n",
      "\n",
      "developed the business case analysis around co-locating and moving the entire HIV Diagnostics and Reference Laboratory and other non-HIV testing elements to a leased facility.  Specifically, WRAIR personnel included non-HIV testing elements in their analysis, which were not related to the problem statement;\n",
      "based the premise of the business case analysis on a research cooperative agreement that could not be used;\n",
      "did not consider three or more courses of action;\n",
      "did not consistently use total costs in their analysis; and\n",
      "used flawed selection criteria in the decision matrix analysis.\n",
      "\n",
      "As a result, U.S. Army Medical Command personnel cannot ensure that they made the best decision transferring HIV testing from the contractor to the HIV Diagnostics and Reference Laboratory, and may increase costs by moving the laboratory and the other non-HIV mission elements into leased space. However, we determined that the Navy’s plans to transfer Navy HIV testing from a contractor to the Air Force appeared reasonable because using the Air Force for HIV testing instead of the Navy’s current contractor could save the Navy approximately $3.58 million per year.2\n",
      "Recommendations\n",
      "We recommend that the Chief of Staff, U.S. Army Medical Command, re-perform the business case analysis for HIV testing and ensure the analysis:\n",
      "\n",
      "includes only the scope cited in the problem statement;\n",
      "uses accurate assumptions and current information and costs;\n",
      "includes three or more courses of actions and alternatives;\n",
      "consistently uses total costs associated with the project;\n",
      "uses well-defined and measurable alternative selection criteria; and\n",
      "is adequately documented and supported.\n",
      "\n",
      "Additionally, we recommend that the Chief of Staff, U.S. Army Medical Command, not enter into any leases to move Army laboratories until the business case analysis is re-performed.  \n",
      "Management Comments and Our Response\n",
      "The Chief of Staff, U.S. Army Medical Command, agreed with our recommendations and addressed all the specifics of the recommendations.  The Chief of Staff agreed to revise the business case analysis to incorporate the elements in the recommendation.  The Chief of Staff expects to complete the revised business case analysis by June 30, 2017.  In addition, the Chief of Staff agreed not to enter into any new leases until the business case analysis is re-performed.  Therefore, the recommendations are resolved but remain open.  We will close the recommendations once we receive and analyze the revised business case analysis to ensure it contains all elements of our recommendation, and verify that the U.S. Army Medical Command has not entered into any new leases to move Army laboratories.  \n",
      "\n",
      "1    The Army considers in-house testing as testing performed at the HIV Diagnostics and Reference Laboratory.\n",
      "2    We calculated the $3.58 million in yearly savings by multiplying the number of planned tests by the difference in the cost per test charged by the contractor and the proposed cost per test charged by the Air Force.  \n",
      "\n",
      "\n",
      "\n",
      "July 7, 2017  —\n",
      "\n",
      "Objective\n",
      "We determined whether Defense Logistics Agency (DLA) personnel complied with the Berry Amendment and the Buy American Act when they purchased covered items such as food, clothing, tents, textiles, and hand or measuring tools.\n",
      "Background\n",
      "We performed this audit in response to Section 1601 of the National Defense Authorization Act for FY 2014.1  To determine whether DLA personnel complied with the Berry Amendment and the Buy American Act, we reviewed a nonstatistical sample of 88 contracts with an obligated value of $386.9 million, out of 2,382 contracts across DLA with an obligated value of $700.4 million, awarded from October 1, 2014, through March 31, 2016. The Berry Amendment directs DoD personnel to ensure funds appropriated or otherwise available to the DoD are not used to procure covered items if the items were not grown, reprocessed, reused, or produced in the United States. The Buy American Act requires, with certain exceptions, that only articles, materials, and supplies that were mined, produced, or manufactured in the United States are used to fulfill Federal procurement and construction contracts.\n",
      "Findings\n",
      "DLA contracting personnel complied with the Berry Amendment for 13 of the 32 contracts reviewed. However, DLA personnel at 3 of the 4 contracting offices visited did not comply with the Berry Amendment for the remaining 19 contracts, valued at $453.2 million.2\n",
      "Specifically, for 14 of the 19 noncompliant contracts, DLA contracting personnel at DLA Troop Support Philadelphia and DLA Aviation Richmond omitted the Berry Amendment implementing clause because they: were unfamiliar with the Berry Amendment, relied on their contract writing system, relied on another official to prepare and review the contract before award, or committed an administrative error. For four noncompliant contracts, contracting personnel at DLA Troop Support Philadelphia did not prepare award notices containing required language to notify the public of the purchase of nondomestic items because they were unaware of the requirement and mistakenly relied on DLA’s electronic contracting systems to include the information or they misinterpreted the requirement and believed that it did not apply. For one of these contracts, DLA Troop Support Philadelphia contracting personnel also purchased foreign-made items without the required supporting documentation and approval because they misinterpreted the Berry Amendment requirements. Contracting personnel at DLA Maritime Puget Sound purchased items containing nondomestic components on the remaining noncompliant contract without the required supporting documentation and approval because they improperly applied an exception to waive the Berry Amendment requirements.\n",
      "As a result, contracting personnel at DLA Troop Support Philadelphia and DLA Aviation Richmond had limited assurance that purchased items complied with the Berry Amendment and suppliers may have provided nondomestic items. In addition, DLA Troop Support Philadelphia personnel did not notify the public regarding a lack of domestically-produced items, and contracting personnel at DLA Troop Support Philadelphia and DLA Maritime Puget Sound committed potential violations of the Antideficiency Act.3\n",
      "DLA personnel at the three contracting offices visited4 complied with the Buy American Act for 44 of the 56 contracts reviewed but did not comply for the 12 remaining contracts, valued at $1.8 million.\n",
      "DLA contracting personnel at DLA Troop Support Philadelphia and DLA Aviation Richmond omitted the Buy American Act implementing clause because they relied on their contract writing system or because of an administrative error. In addition, DLA Aviation Richmond contracting personnel purchased non-U.S.-manufactured items on one contract because they erroneously awarded a small business set-aside contract to an ineligible foreign manufacturer.\n",
      "As a result, contracting personnel at DLA Troop Support Philadelphia and DLA Aviation Richmond had limited assurance that items purchased on 12 contracts complied with the Buy American Act and suppliers may have provided nondomestic items.\n",
      "Corrective Actions Taken\n",
      "Contracting personnel at DLA Troop Support Philadelphia and DLA Aviation Richmond corrected some of the deficiencies identified during the audit. Specifically, DLA contracting personnel modified all 14 Berry Amendment contracts and modified 1 of the 12 Buy American Act contracts with the required implementing clause. In addition, DLA Aviation Richmond contracting personnel issued a local notice to reinforce compliance with the Berry Amendment and the Buy American Act and officials at both contracting offices conducted training on both domestic-sourcing restrictions.\n",
      "Recommendations\n",
      "We recommend that DLA officials determine whether noncompliant items were delivered and, when appropriate, obtain compliant replacement items; amend standard operating procedures and internal processes to improve compliance with the Berry Amendment and Buy American Act; issue special notices to inform the public on the lack of domestically-produced items; require that contracting and technical personnel receive training that incorporates the Buy American Act and Small Business Program requirements when soliciting and awarding an acquisition as a small business set-aside; and review the potential Antideficiency Act violations.\n",
      "Management Comments and Our Response\n",
      "The Director, Defense Logistics Agency Acquisition, responding for the Commander, Defense Logistics Agency Troop Support; Commander, Defense Logistics Agency Aviation; and the Commander, Defense Logistics Agency Land and Maritime, generally agreed with our findings and recommendations. The Director agreed to modify contracts we identified as deficient to include the required Berry Amendment and Buy American Act implementing clauses and to determine whether non-compliant items were delivered under the contracts, and where appropriate, obtain replacement items. The Director also agreed to provide training to contracting personnel on procurements subject to the Berry Amendment and the Buy American Act. Therefore, the recommendations are resolved but will remain open until DLA provides documentation to verify that the contracts have been modified, the product reviews are completed, and that the training satisfies the recommendation specifics.\n",
      "The Director, Defense Logistics Agency Acquisition, commenting for the Director, Defense Logistics Agency Finance, partially agreed with the recommendation to initiate a preliminary review in accordance with the DoD 7000.14-R, “DoD Financial Management Regulation,” volume 14, chapter 3, to determine whether reportable violations of the Antideficiency Act occurred on contracts SPE1C1-15-M-2729 and SPMYM2-15-C-0007 on which DLA contracting personnel procured nondomestically produced footwear that did not comply with the Berry Amendment. The Director stated that a preliminary review was initiated on March 3, 2017, for contract SPMYM2-15-C-0007 and will be completed by June 30, 2017. However, the Director disagreed that a preliminary review was required for contract SPE1C1-15-M-2729 because the Director of Defense Logistics Agency, approved a domestic nonavailability determination for footwear on January 18, 2017, that retroactively applied to contract SPE1C1-15-M-2729.\n",
      "We disagree that the Director, Defense Logistics Agency’s approval of a domestic nonavailability determination more than a year after contracting personnel procured the noncompliant footwear, and more than a year after the footwear was delivered and the contract closed, eliminated the preliminary review for a potential Antideficiency Act violation. Therefore, the recommendation is unresolved and remains open.\n",
      "We request that the Director, Defense Logistics Agency Finance, initiate a preliminary review in accordance with DoD 7000.14-R, “DoD Financial Management Regulation,” volume 14, chapter 3, to determine whether reportable violations of the Antideficiency Act occurred on contract SPE1C1-15-M-2729. Additionally, we request that the Director, Defense Logistics Agency Finance, provide DoD policy on “retroactive” nonavailability determinations. We request that the Director, Defense Logistics Agency Finance, provide comments to the final report by August 7, 2017.\n",
      "\n",
      "1 Public Law 113-66, “National Defense Authorization Act for Fiscal Year 2014,” December 26, 2013, which requires the DoD Inspector General to conduct periodic audits of contracting practices and policies related to procurement under section 2533a, title 10, United States Code (U.S.C.).\n",
      "2 We identified 20 deficiencies on 19 contracts.\n",
      "3 The Antideficiency Act (31 U.S.C. § 1341) does not permit Government officials to make or authorize obligations or expenditures that exceed amounts appropriated or funded for that purpose. The Berry Amendment is a statutory prohibition on the use of DoD funds.\n",
      "4 We did not review contracts at DLA Aviation Philadelphia for compliance with the Buy American Act.  \n",
      "This report is a result of Project No. D2016-D000CG-0140.000\n",
      "\n",
      "\n",
      "\n",
      "April 25, 2018  —\n",
      "\n",
      "\n",
      "\n",
      "Objective:\n",
      "We determined whether the Defense Contract Management Agency (DCMA) properly awarded and administered information technology (IT) service contracts.  \n",
      "We conducted this audit in response to a management request from the former DCMA Director.  Specifically, the Director noted irregularities with DCMA Procurement Center IT contracts, including requirements definitions and the contract award process, and asked us to audit Procurement Center IT contracts.  \n",
      "Background:\n",
      "The DCMA performs contract administration services for the DoD, other authorized Federal agencies, foreign governments, and international organizations.  DCMA IT Directorate program managers, contracting officer’s representatives (CORs), contract specialists, and DCMA Procurement Center contracting officers are involved with awarding and administering DCMA IT service contracts.  \n",
      "We reviewed a nonstatistical sample of 14 DCMA IT service contracts, valued at $72 million, from a universe of 94 IT service contracts that were active in FY 2017.  The contracts we reviewed included firm-fixed-price contracts and orders issued under blanket purchase agreements or flexible ordering agreements.\n",
      "Finding:\n",
      "We determined that DCMA contracting officials did not properly award 11 of the 14 IT service contracts reviewed, valued at $61 million.  Specifically, DCMA officials did not:\n",
      "\n",
      "properly define requirements that included measurable performance standards for eight contracts;\n",
      "\n",
      "\n",
      "develop an acquisition plan for one contract; or \n",
      "\n",
      "\n",
      "submit offers for Small Business Administration acceptances for two contracts awarded through the 8(a) program. \n",
      "\n",
      "In addition, DCMA officials used flexible ordering agreements to award 5 of the 14 contracts, which violated relevant Federal Acquisition Regulation requirements.  \n",
      "These problems occurred because DCMA officials did not ensure that contracts were developed in accordance with Federal Acquisition Regulation and DCMA guidance, use multi-functional teams to plan and manage IT service requirements, and perform pre- or post-award peer reviews of contracts. \n",
      "As a result, DCMA contracting officials acquired $56.4 million in IT services on contracts with poorly defined or nonexistent performance work statements that may not meet the performance needs required to successfully execute the DCMA mission.  Additionally, DCMA contracting officials fulfilled IT services requirements under the 8(a) Business Development Program without the Small Business Administration determining whether the requirements should continue under the 8(a) program.  Furthermore, DCMA contracting officers exceeded their authority by establishing flexible ordering agreements and did not comply with Federal competition guidelines. \n",
      "In addition, DCMA contracting officials did not properly administer IT service contracts for 13 of the 14 contracts, valued at $70.3 million.  Specifically, DCMA officials did not properly monitor contractor performance, accept IT services, approve invoices or use the Defense Contract Audit Agency to approve interim invoices with labor-hour line items.  This occurred because DCMA officials did not:\n",
      "\n",
      "appoint CORs for 3 of the 13 contracts;\n",
      "\n",
      "\n",
      "terminate CORs for 6 of the 13 contracts;\n",
      "\n",
      "\n",
      "properly train the CORs for 10 of the 13 contracts; \n",
      "\n",
      "\n",
      "develop quality assurance surveillance plans for 7 of the 13 contracts; and \n",
      "\n",
      "\n",
      "develop adequate quality assurance surveillance plans for 4 of the 13 contracts.\n",
      "\n",
      "Furthermore, DCMA officials who accepted IT services and approved invoices did not have the authority to do so and did not maintain discipline, structure, and a work environment that encouraged establishing and implementing effective internal controls.  \n",
      "As a result, DCMA officials do not have reasonable assurance that the DCMA received the $70.3 million in IT services it paid for.  Without adequate contractor surveillance, the DCMA might receive services that are late, deficient, or outside the scope of the contract requirements.  Finally, if DCMA officials do not improve the controls to ensure effective contract administration, the DCMA IT Directorate will continue to pay for IT services without reasonable assurance that it received the services.  \n",
      "Recommendations:\n",
      "\n",
      "Among other recommendations, we recommended the DCMA Director establish internal controls to ensure:\n",
      "\n",
      "\n",
      "DCMA officials develop performance work statements for service acquisitions;\n",
      "\n",
      "\n",
      "CORs or contracting officers perform inspections and monitor contractor performance on service contracts;\n",
      "\n",
      "\n",
      "CORs or contracting officers determine whether the contractor performed satisfactorily and ensure the work progressed according to the contract before they approve invoices;\n",
      "\n",
      "\n",
      "CORs are nominated, appointed, and terminated and that contracting officers provide CORs with contract-specific training; and\n",
      "\n",
      "\n",
      "requiring activities develop quality assurance surveillance plans for all service acquisitions.\n",
      "\n",
      "In addition, we recommended the DCMA Director:\n",
      "\n",
      "develop guidance for awarding contracts under the Small Business Administration’s 8(a) program to include notifying the Small Business Administration of DCMA contracting officers’ plans to award all orders under blanket purchase agreements under the 8(a) program;\n",
      "\n",
      "\n",
      "issue written justification and approvals for all ongoing orders under flexible ordering agreements and immediately identify the mission-critical requirements met through flexible ordering agreements and award new contracts before the current periods of performance end;\n",
      "\n",
      "\n",
      "initiate a review of the contracting officers’ actions to continue the use of flexible ordering agreements, despite the Government Accountability Office’s decision and, as appropriate, initiate administrative actions; and \n",
      "\n",
      "\n",
      "reemphasize the importance of all aspects of the contracting process, and provide training for DCMA officials responsible for contract monitoring and the administration of service contracts.  \n",
      "\n",
      "Management Comments and Our Response:\n",
      "The DCMA Director provided comments in response to a draft of this report.\n",
      "The Director agreed with and identified corrective actions for all recommendations.  Therefore, the following recommendations are resolved but remain open.  We will close the recommendations once we verify that the DCMA Director has, among other requirements:\n",
      "\n",
      "developed internal controls to ensure that DCMA officials develop performance work statements for service acquisitions, that CORs or contracting officers perform inspections and monitor contractor performance on service contracts, and that the contracting officers or CORs determine whether the contractors performed satisfactorily and ensure the work progressed according to the contracts before approving invoices;\n",
      "developed guidance for awarding contracts under the Small Business Administration’s 8(a) program to include notifying the regional Small Business Administration of DCMA contracting officers’ plans to award all orders under blanket purchase agreements under the 8(a) program;\n",
      "identified the mission-critical requirements met through flexible ordering agreements and awarded new contracts before the current periods of performance end;\n",
      "confirmed that the DCMA review of the contracting officers' actions to continue the use of flexible ordering agreements, and stopped establishing flexible ordering agreements; and\n",
      "reemphasized the importance of all aspects of the contracting process, and provided training for DCMA officials. \n",
      "\n",
      " \n",
      " \n",
      " \n",
      " \n",
      "\n",
      "\n",
      "\n",
      "Aug. 15, 2017  —\n",
      "\n",
      "Objective\n",
      "We determined whether Defense organizations made determinations of fair and reasonable pricing for General Services Administration (GSA) Federal supply schedule orders awarded for purchases of supplies. Supplies purchased from the GSA Federal supply schedule are considered commercial items. The Federal supply schedule program allows the Government to purchase commercial supplies and services—such as software licenses, batteries, and digital maps—at prices associated with volume buying. We reviewed a nonstatistical sample of 57 orders, valued at $48 million, at Washington Headquarters Services (WHS), DoD Human Resources Activity (DoDHRA), Defense Health Agency (DHA), and Defense Threat Reduction Agency (DTRA). This is the third and last in a series of audits on GSA Federal supply schedule orders.\n",
      "Background\n",
      "The Director, Defense Procurement and Acquisition Policy (DPAP), issued policy memorandum, “Class Deviation—Determination of Fair and Reasonable Prices When Using Federal Supply Schedule Contracts,” (class deviation) on March 13, 2014. The class deviation requires DoD contracting personnel to make determinations of fair and reasonable pricing for GSA Federal supply schedule orders for supplies and fixed-price services. A deviation is the issuance or use of a policy, procedure, solicitation provision, contract clause, method, or practice of conducting acquisition actions of any kind at any stage of the acquisition process that is inconsistent with the Federal Acquisition Regulation. A class deviation is a change from guidance that affects more than one contract action.\n",
      "Finding\n",
      "WHS, DoDHRA, and DTRA contracting officers made adequate price reasonableness determinations for 10 orders, valued at $7.7 million. Specifically, WHS, DoDHRA, and DTRA contracting officers compared the only quote to adequately prepared independent Government estimates (IGEs), compared the only quote to historical prices that were specifically identified, or compared prices offered under two quotes. In addition, WHS, DoDHRA, and DTRA contracting officers signed and dated price reasonableness determinations for the 10 orders.\n",
      "However, WHS, DoDHRA, DHA, and DTRA contracting officers did not adequately document and support whether the prices paid for 47 orders, valued at $40.3 million, were fair and reasonable. Specifically:\n",
      "\n",
      "For 40 orders, WHS, DoDHRA, DHA and DTRA contracting officers did not adequately document fair and reasonable pricing. Specifically, the contracting officers did not make price reasonableness determinations, did not sign price reasonableness determinations they made, did not approve in writing price reasonableness determinations made by contract specialists, or made price reasonableness determinations after the award. A DoDHRA contracting officer stated that the contracting officer’s signature on the order certified that the price was fair and reasonable. WHS, DHA, and DTRA contracting officers stated that not signing and dating the price reasonableness determinations was an oversight.\n",
      "For 11 orders, WHS, DoDHRA, and DTRA contracting officers relied on inadequate IGEs that did not identify the source of the information because they relied on the knowledge of the preparers of the IGEs rather than asking the preparers to document and support the estimate and because they were under tight timeframes to award the orders.\n",
      "For 10 orders, WHS, DoDHRA, DHA, and DTRA contracting officers relied on the price lists of the same vendor that submitted the only quote. Contracting officers stated that they were too busy to perform additional price analysis, that the orders were sole-source awards, that they performed other price analysis but did not document the other price analysis in the contract file, or that they performed other price analysis but could not locate the documentation.\n",
      "For one order involving one quote, a DoDHRA contracting officer relied on a discount that the vendor provided as the only price analysis technique. The contracting officer had left the DoDHRA; therefore, we were unable to determine why the contracting officer relied only on the discount.\n",
      "For one order involving two quotes, a WHS contracting officer used a quote eliminated from consideration for technical reasons to make the price reasonableness determination without verifying whether the price was still valid for comparison purposes. The contracting officer had left the WHS; therefore, we were unable to determine why that occurred.\n",
      "For two orders involving one quote, the WHS contracting officers stated that they performed price analysis, but did not document the price analysis in the contract file.\n",
      "\n",
      "In addition, the Director, DPAP, and WHS, DoDHRA, DHA, and DTRA management have not issued guidance or provided training to contracting officers related to price reasonableness determinations and price analysis for orders for supplies awarded after Defense Procurement and Acquisition Policy issued the class deviation.\n",
      "During the audit, we briefed the Deputy Director for Contract Policy and International Contracting, DPAP, on our findings and proposed recommendations. The Deputy Director stated that DPAP is developing a guidebook for purchasing commercial items. The guidebook will address price reasonableness determinations and price analysis for commercial items, including supplies purchased from the GSA Federal supply schedule, which are considered to be commercial items. In addition, the Deputy Director explained that DPAP officials are coordinating with the Defense Acquisition University to develop training on the requirements in the guidebook. During this meeting, we suggested that DPAP and the Defense Acquisition University should develop the training instead of each Defense organization developing its own training to ensure consistent training across the DoD. The DPAP official agreed and stated that the recommendations should be directed to DPAP instead of the Defense organizations visited during the audit.\n",
      "Recommendations\n",
      "We recommend that the Director, DPAP, develop and implement guidance for performing and documenting price analysis and making price reasonableness determinations for GSA Federal supply schedule orders for supplies and develop training for contracting personnel on the guidance.\n",
      "Management Comments and Our Response\n",
      "The Deputy Director for Contract Policy and International Contracting, DPAP, responding for the Director, DPAP, agreed with our finding and recommendations to provide guidance and develop training. The recommendations are resolved but will remain open. We will close the recommendations once we verify that DPAP has issued the guidance and developed the training.\n",
      "\n"
     ]
    }
   ],
   "source": [
    "import nltk.data\n",
    "from os import listdir\n",
    "from os.path import isfile, join\n",
    "from nltk.util import bigrams \n",
    "from nltk.tokenize import TreebankWordTokenizer\n",
    "sentence_tokenizer = nltk.data.load('tokenizers/punkt/english.pickle')\n",
    "treebank_tokenizer = TreebankWordTokenizer()\n",
    "\n",
    "dir_base = \"/Users/teacher/repos/s20_ds_nlp/classes/week_3/data/\"\n",
    "\n",
    "\n",
    "def read_file(filename):\n",
    "    input_file_text = open(filename , encoding='utf-8').read()\n",
    "    return input_file_text\n",
    "\n",
    "    \n",
    "def read_directory_files(directory):\n",
    "    file_texts = \"\"\n",
    "    files = [f for f in listdir(directory) if isfile(join(directory, f))]\n",
    "    for f in files:\n",
    "        file_texts += read_file(join(directory, f) )\n",
    "    return file_texts\n",
    "    \n",
    "text_corpus = read_directory_files(dir_base)\n",
    "print(text_corpus)"
   ]
  },
  {
   "cell_type": "markdown",
   "metadata": {},
   "source": [
    "So now we have a single text variable that represents all the text in a corpus.\n",
    "\n",
    "Can we get counts and what not of this?"
   ]
  },
  {
   "cell_type": "code",
   "execution_count": 2,
   "metadata": {},
   "outputs": [],
   "source": [
    "bigrams = nltk.bigrams(text_corpus)\n",
    "freq_bi = nltk.FreqDist(bigrams)"
   ]
  },
  {
   "cell_type": "code",
   "execution_count": 4,
   "metadata": {},
   "outputs": [
    {
     "data": {
      "image/png": "[encoded data removed]",
      "text/plain": [
       "<Figure size 432x288 with 1 Axes>"
      ]
     },
     "metadata": {},
     "output_type": "display_data"
    }
   ],
   "source": [
    "freq_bi.plot(10)"
   ]
  },
  {
   "cell_type": "markdown",
   "metadata": {},
   "source": [
    "What's the problem with this data?\n",
    "\n",
    "Characters only."
   ]
  },
  {
   "cell_type": "code",
   "execution_count": 5,
   "metadata": {},
   "outputs": [],
   "source": [
    "punkt_sentences = sentence_tokenizer.tokenize(text_corpus)\n",
    "sentences_words = [treebank_tokenizer.tokenize(sentence) for sentence in punkt_sentences]\n",
    "all_tokens = [word for sentence in sentences_words for word in sentence]\n",
    "bigrams = nltk.bigrams(all_tokens)\n",
    "freq_bi = nltk.FreqDist(bigrams)"
   ]
  },
  {
   "cell_type": "code",
   "execution_count": 6,
   "metadata": {},
   "outputs": [
    {
     "name": "stdout",
     "output_type": "stream",
     "text": [
      "[(('of', 'the'), 65), ((',', 'and'), 57), (('.', 'The'), 40), (('did', 'not'), 38), (('that', 'the'), 34), ((',', 'the'), 32), (('for', 'the'), 23), (('with', 'the'), 23), (('Air', 'Force'), 23), (('contracting', 'officers'), 22), (('.', 'In'), 21), (('’', 's'), 21), ((',', 'we'), 20), (('In', 'addition'), 17), (('addition', ','), 17), (('and', 'the'), 17), (('Berry', 'Amendment'), 17), (('contracting', 'personnel'), 16), (('in', 'the'), 15), (('.', 'We'), 15)]\n"
     ]
    },
    {
     "data": {
      "image/png": "[encoded data removed]",
      "text/plain": [
       "<Figure size 432x288 with 1 Axes>"
      ]
     },
     "metadata": {},
     "output_type": "display_data"
    }
   ],
   "source": [
    "print(freq_bi.most_common(20))\n",
    "freq_bi.plot(10)"
   ]
  },
  {
   "cell_type": "code",
   "execution_count": 7,
   "metadata": {},
   "outputs": [],
   "source": [
    "stop_words = nltk.corpus.stopwords.words('english')\n",
    "content = [w for w in all_tokens if w.lower() not in stop_words]\n",
    "bigrams = nltk.bigrams(content)\n",
    "freq_bi = nltk.FreqDist(bigrams)"
   ]
  },
  {
   "cell_type": "code",
   "execution_count": 8,
   "metadata": {},
   "outputs": [
    {
     "name": "stdout",
     "output_type": "stream",
     "text": [
      "[(('Air', 'Force'), 23), (('contracting', 'officers'), 22), (('addition', ','), 17), (('Berry', 'Amendment'), 17), (('.', 'addition'), 16), (('contracting', 'personnel'), 16), (('software', 'development'), 14), (('Director', ','), 14), ((',', '2017'), 13), (('.', 'Specifically'), 13), (('Specifically', ','), 13), (('Buy', 'American'), 13), (('American', 'Act'), 13), ((',', 'Defense'), 13), ((',', 'DCMA'), 13), (('business', 'case'), 12), (('Defense', 'Logistics'), 12), (('Logistics', 'Agency'), 12), (('DCMA', 'officials'), 12), (('case', 'analysis'), 11)]\n"
     ]
    },
    {
     "data": {
      "image/png": "[encoded data removed]",
      "text/plain": [
       "<Figure size 432x288 with 1 Axes>"
      ]
     },
     "metadata": {},
     "output_type": "display_data"
    }
   ],
   "source": [
    "print(freq_bi.most_common(20))\n",
    "freq_bi.plot(10)"
   ]
  },
  {
   "cell_type": "markdown",
   "metadata": {},
   "source": [
    "What other things might we remove?\n",
    "\n",
    "Numbers? Punctuation?"
   ]
  },
  {
   "cell_type": "code",
   "execution_count": null,
   "metadata": {},
   "outputs": [],
   "source": [
    "print(freq_bi.hapaxes())\n",
    "print(freq_bi.N())\n",
    "print(freq_bi.freq(('May','21')))"
   ]
  },
  {
   "cell_type": "markdown",
   "metadata": {},
   "source": [
    "Moving from frequency counts to probabilities\n",
    "\n",
    "Above we used the NLTK library to count the number of tokens and n-grams. We can now fit a probability distribution to this data to determine the probability of different tokens and n-grams."
   ]
  },
  {
   "cell_type": "code",
   "execution_count": 9,
   "metadata": {},
   "outputs": [
    {
     "name": "stdout",
     "output_type": "stream",
     "text": [
      "('Air', 'Force')\n",
      "0.004333082140165787\n",
      "-7.850390699313181\n"
     ]
    }
   ],
   "source": [
    "# use the Maximum Likelihood Estimator to construct \n",
    "# a probability distribution for things.\n",
    "MLE_Dist = nltk.MLEProbDist(freq_bi)\n",
    "print(MLE_Dist.max()) # tell us what the most likely item is.\n",
    "print(MLE_Dist.prob(('Air', 'Force'))) # regular probability\n",
    "print(MLE_Dist.logprob(('Air', 'Force')) ) # log probability"
   ]
  },
  {
   "cell_type": "markdown",
   "metadata": {},
   "source": [
    "But what if we use words that we've never seen before?"
   ]
  },
  {
   "cell_type": "code",
   "execution_count": 10,
   "metadata": {},
   "outputs": [
    {
     "name": "stdout",
     "output_type": "stream",
     "text": [
      "0.0\n",
      "-1e+300\n"
     ]
    }
   ],
   "source": [
    "print(MLE_Dist.prob(('Chair', 'Force')))\n",
    "print(MLE_Dist.logprob(('Chair', 'Force')) )"
   ]
  },
  {
   "cell_type": "markdown",
   "metadata": {},
   "source": [
    "Knowing that we can construct a probability distribution, we can also smooth the distribution to avoid the zero probability problem."
   ]
  },
  {
   "cell_type": "code",
   "execution_count": 11,
   "metadata": {},
   "outputs": [
    {
     "name": "stdout",
     "output_type": "stream",
     "text": [
      "0.00011519410206197443\n",
      "-13.083645526864414\n"
     ]
    }
   ],
   "source": [
    "# Take the frequency counts and fit them into a \n",
    "# probability with Laplacean smoothing\n",
    "Smoothed_dist = nltk.LaplaceProbDist(freq_bi)\n",
    "print(Smoothed_dist.prob(('Chair', 'Force')))\n",
    "print(Smoothed_dist.logprob(('Chair', 'Force')) )"
   ]
  },
  {
   "cell_type": "markdown",
   "metadata": {},
   "source": [
    "Now we can generate random strings from the model."
   ]
  },
  {
   "cell_type": "code",
   "execution_count": 12,
   "metadata": {},
   "outputs": [
    {
     "name": "stdout",
     "output_type": "stream",
     "text": [
      "('allegations', 'focused')\n"
     ]
    }
   ],
   "source": [
    "print(Smoothed_dist.generate())"
   ]
  },
  {
   "cell_type": "markdown",
   "metadata": {},
   "source": [
    "Now, imagine you have a sentence and you want to see about identifying its source. You have two separate language models you've constructed and so you are going to calculate the probability that a novel sentence has come from one of these models."
   ]
  },
  {
   "cell_type": "code",
   "execution_count": 13,
   "metadata": {},
   "outputs": [
    {
     "name": "stdout",
     "output_type": "stream",
     "text": [
      "-12.172240025951295\n",
      "5.1720572600635855e-06\n",
      "-12.821972616327125\n",
      "2.7007727658579358e-06\n"
     ]
    }
   ],
   "source": [
    "import numpy as np\n",
    "test_sentence_1 = \"USPACOM, in coordination with other DoD elements, government agencies, and partner nations, executes this contingency operation as a counterterrorism campaign supporting the Republic of the Philippines. \"\n",
    "test_sentence_2 = \"Quite unexpectedly, my curiosity turned into a foray into postmodern philosophy and critical theory, reflexivity and voice, various vague approaches to autobiographical inquiry, validity and acceptability, defences and criticisms, and a wide range of published personal narratives, the typical product of autoethnography.\"\n",
    "\n",
    "def get_sentence_bigrams(sentence):\n",
    "    sentence_words = treebank_tokenizer.tokenize(sentence)\n",
    "    word_count = len(sentence_words)\n",
    "    bigrams = nltk.bigrams(sentence_words)\n",
    "    return bigrams, word_count\n",
    "    \n",
    "def estimate_sentence_probability(bigram_sentence, word_length):\n",
    "    slogprob = 0\n",
    "    for bigram_words in bigram_sentence:\n",
    "        logprob= Smoothed_dist.logprob(bigram_words)\n",
    "        slogprob += logprob\n",
    "     \n",
    "    return slogprob/word_length\n",
    "\n",
    "bigram_sentence,word_count = get_sentence_bigrams(test_sentence_1)\n",
    "estimate_probability = estimate_sentence_probability(bigram_sentence, word_count)\n",
    "print(estimate_probability)\n",
    "print(np.exp(estimate_probability))\n",
    "\n",
    "\n",
    "\n",
    "bigram_sentence_2,word_count = get_sentence_bigrams(test_sentence_2)\n",
    "estimate_probability_2 = estimate_sentence_probability(bigram_sentence_2, word_count)\n",
    "print(estimate_probability_2)\n",
    "print(np.exp(estimate_probability_2))\n",
    "\n"
   ]
  },
  {
   "cell_type": "markdown",
   "metadata": {},
   "source": [
    "Do these numbers look right?"
   ]
  },
  {
   "cell_type": "code",
   "execution_count": 14,
   "metadata": {},
   "outputs": [
    {
     "name": "stdout",
     "output_type": "stream",
     "text": [
      "-7.707033001133059\n",
      "0.0004496536217073315\n",
      "-9.15855186880509\n",
      "0.00010531529804417424\n"
     ]
    }
   ],
   "source": [
    "def get_better_sentence_bigrams(sentence):\n",
    "    sentence_words = treebank_tokenizer.tokenize(sentence)\n",
    "    stop_words = nltk.corpus.stopwords.words('english')\n",
    "    content = [w for w in sentence_words if w.lower() not in stop_words]\n",
    "    word_count = len(sentence_words)\n",
    "    bigrams = nltk.bigrams(content)\n",
    "    return bigrams, word_count\n",
    "    \n",
    "\n",
    "bigram_sentence, word_count = get_better_sentence_bigrams(test_sentence_1)\n",
    "estimate_probability = estimate_sentence_probability(bigram_sentence, word_count)\n",
    "print(estimate_probability)\n",
    "print(np.exp(estimate_probability))\n",
    "\n",
    "\n",
    "bigram_sentence, word_count = get_better_sentence_bigrams(test_sentence_2)\n",
    "estimate_probability = estimate_sentence_probability(bigram_sentence, word_count)\n",
    "print(estimate_probability)\n",
    "print(np.exp(estimate_probability))"
   ]
  },
  {
   "cell_type": "code",
   "execution_count": null,
   "metadata": {},
   "outputs": [],
   "source": []
  }
 ],
 "metadata": {
  "kernelspec": {
   "display_name": "Python 3",
   "language": "python",
   "name": "python3"
  },
  "language_info": {
   "codemirror_mode": {
    "name": "ipython",
    "version": 3
   },
   "file_extension": ".py",
   "mimetype": "text/x-python",
   "name": "python",
   "nbconvert_exporter": "python",
   "pygments_lexer": "ipython3",
   "version": "3.6.5"
  }
 },
 "nbformat": 4,
 "nbformat_minor": 2
}
